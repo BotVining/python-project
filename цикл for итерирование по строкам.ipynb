{
 "cells": [
  {
   "cell_type": "markdown",
   "metadata": {},
   "source": [
    "Задача 1. Python!\n",
    "Напишите программу, которая выводит в отдельную строчку каждый символ фразы “Python!”"
   ]
  },
  {
   "cell_type": "code",
   "execution_count": 2,
   "metadata": {},
   "outputs": [
    {
     "name": "stdout",
     "output_type": "stream",
     "text": [
      "P\n",
      "y\n",
      "t\n",
      "h\n",
      "o\n",
      "n\n",
      "!\n"
     ]
    }
   ],
   "source": [
    "python = 'Python!'\n",
    "for i in python:\n",
    "    print(i)"
   ]
  },
  {
   "cell_type": "markdown",
   "metadata": {},
   "source": [
    "аня экспериментирует с различного рода компьютерными вирусами, которые портят жизнь людям. На просторах Интернета он нашёл код довольно необычного вируса, который “поворачивает” весь текст в документе и повторяет каждый символ 3 раза.\n",
    "\n",
    "Пользователь вводит текст. Напишите программу, которая выводит каждый символ текста в отдельной строке и три раза.\n",
    "\n",
    "Пример:\n",
    "\n",
    "Введите текст: Привет!\n",
    "\n",
    "ППП\n",
    "\n",
    "ррр\n",
    "\n",
    "иии\n",
    "\n",
    "ввв\n",
    "\n",
    "еее\n",
    "\n",
    "ттт\n",
    "\n",
    "!!!\n",
    "\n",
    " "
   ]
  },
  {
   "cell_type": "code",
   "execution_count": 3,
   "metadata": {},
   "outputs": [
    {
     "name": "stdout",
     "output_type": "stream",
     "text": [
      "Введите текст: привет\n",
      "ппп\n",
      "ррр\n",
      "иии\n",
      "ввв\n",
      "еее\n",
      "ттт\n"
     ]
    }
   ],
   "source": [
    "text = input('Введите текст: ')\n",
    "for i in text:\n",
    "    print(i * 3)"
   ]
  },
  {
   "cell_type": "markdown",
   "metadata": {},
   "source": [
    "Задача 3.\n",
    "Мы входим в команду разработки нового текстового редактора и нам поручили разработать для него подсчёт нужного символа в тексте, а именно - буквы Ы. Причём отдельно с верхним регистром и отдельно с нижним.\n",
    "\n",
    "Напишите программу, которая считает количество больших и количество маленьких букв Ы в тексте и выводит ответ на экран.\n",
    "\n",
    "Пример:\n",
    "\n",
    "Введите текст: Прыг скок\n",
    "\n",
    "Больших букв Ы: 0\n",
    "\n",
    "Маленьких букв Ы: 1"
   ]
  },
  {
   "cell_type": "code",
   "execution_count": 16,
   "metadata": {},
   "outputs": [
    {
     "ename": "TypeError",
     "evalue": "'str' object is not callable",
     "output_type": "error",
     "traceback": [
      "\u001b[1;31m---------------------------------------------------------------------------\u001b[0m",
      "\u001b[1;31mTypeError\u001b[0m                                 Traceback (most recent call last)",
      "\u001b[1;32m<ipython-input-16-d83ae1336df9>\u001b[0m in \u001b[0;36m<module>\u001b[1;34m\u001b[0m\n\u001b[1;32m----> 1\u001b[1;33m \u001b[0mtex\u001b[0m \u001b[1;33m=\u001b[0m \u001b[0minput\u001b[0m\u001b[1;33m(\u001b[0m\u001b[1;34m'ведите текст: '\u001b[0m\u001b[1;33m)\u001b[0m\u001b[1;33m\u001b[0m\u001b[1;33m\u001b[0m\u001b[0m\n\u001b[0m\u001b[0;32m      2\u001b[0m \u001b[0msimbol1\u001b[0m \u001b[1;33m=\u001b[0m \u001b[1;34m'Ы'\u001b[0m\u001b[1;33m\u001b[0m\u001b[1;33m\u001b[0m\u001b[0m\n\u001b[0;32m      3\u001b[0m \u001b[0msimbol2\u001b[0m \u001b[1;33m=\u001b[0m \u001b[1;34m'ы'\u001b[0m\u001b[1;33m\u001b[0m\u001b[1;33m\u001b[0m\u001b[0m\n\u001b[0;32m      4\u001b[0m \u001b[0mcountSimbol1\u001b[0m \u001b[1;33m=\u001b[0m \u001b[1;36m0\u001b[0m\u001b[1;33m\u001b[0m\u001b[1;33m\u001b[0m\u001b[0m\n\u001b[0;32m      5\u001b[0m \u001b[0mcountSimbol2\u001b[0m \u001b[1;33m=\u001b[0m \u001b[1;36m0\u001b[0m\u001b[1;33m\u001b[0m\u001b[1;33m\u001b[0m\u001b[0m\n",
      "\u001b[1;31mTypeError\u001b[0m: 'str' object is not callable"
     ]
    }
   ],
   "source": [
    "tex = input('ведите текст: ')\n",
    "simbol1 = 'Ы'\n",
    "simbol2 = 'ы'\n",
    "countSimbol1 = 0\n",
    "countSimbol2 = 0\n",
    "for i in tex:\n",
    "    if i == simbol1:\n",
    "        countSimbol1 += 1\n",
    "    elif i == simbol2:\n",
    "        countSimbol2 += 1\n",
    "print('Всего символвов Ы ', countSimbol1)\n",
    "print('Всего символов ы ', countSimbol2)"
   ]
  },
  {
   "cell_type": "code",
   "execution_count": 17,
   "metadata": {},
   "outputs": [
    {
     "ename": "TypeError",
     "evalue": "'str' object is not callable",
     "output_type": "error",
     "traceback": [
      "\u001b[1;31m---------------------------------------------------------------------------\u001b[0m",
      "\u001b[1;31mTypeError\u001b[0m                                 Traceback (most recent call last)",
      "\u001b[1;32m<ipython-input-17-2ee281095bd1>\u001b[0m in \u001b[0;36m<module>\u001b[1;34m\u001b[0m\n\u001b[1;32m----> 1\u001b[1;33m \u001b[0mg\u001b[0m \u001b[1;33m=\u001b[0m \u001b[0minput\u001b[0m\u001b[1;33m(\u001b[0m\u001b[1;34m'dffjf'\u001b[0m\u001b[1;33m)\u001b[0m\u001b[1;33m\u001b[0m\u001b[1;33m\u001b[0m\u001b[0m\n\u001b[0m\u001b[0;32m      2\u001b[0m \u001b[0mg\u001b[0m\u001b[1;33m\u001b[0m\u001b[1;33m\u001b[0m\u001b[0m\n",
      "\u001b[1;31mTypeError\u001b[0m: 'str' object is not callable"
     ]
    }
   ],
   "source": [
    "g = input('dffjf')\n",
    "g"
   ]
  }
 ],
 "metadata": {
  "kernelspec": {
   "display_name": "Python 3",
   "language": "python",
   "name": "python3"
  },
  "language_info": {
   "codemirror_mode": {
    "name": "ipython",
    "version": 3
   },
   "file_extension": ".py",
   "mimetype": "text/x-python",
   "name": "python",
   "nbconvert_exporter": "python",
   "pygments_lexer": "ipython3",
   "version": "3.7.6"
  }
 },
 "nbformat": 4,
 "nbformat_minor": 4
}
